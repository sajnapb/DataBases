{
 "cells": [
  {
   "cell_type": "code",
   "execution_count": 21,
   "id": "5048c25c",
   "metadata": {},
   "outputs": [],
   "source": [
    "import pymongo"
   ]
  },
  {
   "cell_type": "markdown",
   "id": "f48fa1c6",
   "metadata": {},
   "source": [
    "# establish connection"
   ]
  },
  {
   "cell_type": "code",
   "execution_count": 7,
   "id": "cddc3926",
   "metadata": {},
   "outputs": [],
   "source": [
    "DEFAULT_CONNECTION_URL='mongodb://localhost:27017'"
   ]
  },
  {
   "cell_type": "code",
   "execution_count": 15,
   "id": "4536084e",
   "metadata": {},
   "outputs": [],
   "source": [
    "DB_NAME='avodha_new'"
   ]
  },
  {
   "cell_type": "code",
   "execution_count": 16,
   "id": "85378cc8",
   "metadata": {},
   "outputs": [],
   "source": [
    "client=pymongo.MongoClient(DEFAULT_CONNECTION_URL)\n",
    "dataBase=client[DB_NAME]"
   ]
  },
  {
   "cell_type": "code",
   "execution_count": 17,
   "id": "e3226f06",
   "metadata": {},
   "outputs": [
    {
     "data": {
      "text/plain": [
       "MongoClient(host=['localhost:27017'], document_class=dict, tz_aware=False, connect=True)"
      ]
     },
     "execution_count": 17,
     "metadata": {},
     "output_type": "execute_result"
    }
   ],
   "source": [
    "client"
   ]
  },
  {
   "cell_type": "code",
   "execution_count": 18,
   "id": "a6be9dbd",
   "metadata": {},
   "outputs": [
    {
     "data": {
      "text/plain": [
       "Database(MongoClient(host=['localhost:27017'], document_class=dict, tz_aware=False, connect=True), 'avodha_new')"
      ]
     },
     "execution_count": 18,
     "metadata": {},
     "output_type": "execute_result"
    }
   ],
   "source": [
    "dataBase"
   ]
  },
  {
   "cell_type": "code",
   "execution_count": 20,
   "id": "d133687f",
   "metadata": {},
   "outputs": [
    {
     "data": {
      "text/plain": [
       "['admin', 'config', 'local']"
      ]
     },
     "execution_count": 20,
     "metadata": {},
     "output_type": "execute_result"
    }
   ],
   "source": [
    "#to see the databases\n",
    "client.list_database_names()"
   ]
  },
  {
   "cell_type": "markdown",
   "id": "ba704a6b",
   "metadata": {},
   "source": [
    "# creating collection"
   ]
  },
  {
   "cell_type": "code",
   "execution_count": 23,
   "id": "e6c01596",
   "metadata": {},
   "outputs": [],
   "source": [
    "COLLECTION_NAME='avodha_courses'\n",
    "collection=dataBase[COLLECTION_NAME]"
   ]
  },
  {
   "cell_type": "code",
   "execution_count": 29,
   "id": "8a8f91f0",
   "metadata": {},
   "outputs": [
    {
     "name": "stdout",
     "output_type": "stream",
     "text": [
      "collection : 'avodha_courses' in database 'avodha_new' exists or there is no data\n"
     ]
    }
   ],
   "source": [
    "#checking the collection\n",
    "def check_coll(COLLECTION_NAME,DB_NAME,db):\n",
    "    collection_list=db.list_collection_names()\n",
    "    if COLLECTION_NAME in collection_list:\n",
    "        print(f\"collection : '{COLLECTION_NAME}' in database '{DB_NAME}' exists\")\n",
    "        return True\n",
    "    print(f\"collection : '{COLLECTION_NAME}' in database '{DB_NAME}' exists or there is no data\")\n",
    "    return False\n",
    "_=check_coll(COLLECTION_NAME,DB_NAME,db=dataBase)"
   ]
  },
  {
   "cell_type": "code",
   "execution_count": 31,
   "id": "25865f91",
   "metadata": {},
   "outputs": [],
   "source": [
    "record={'name':'avodha','objective':'jap','courses':'ds,ai,flutter,accounting'}"
   ]
  },
  {
   "cell_type": "code",
   "execution_count": 32,
   "id": "df5a2ca5",
   "metadata": {},
   "outputs": [
    {
     "data": {
      "text/plain": [
       "<pymongo.results.InsertOneResult at 0x1343d4ab0d0>"
      ]
     },
     "execution_count": 32,
     "metadata": {},
     "output_type": "execute_result"
    }
   ],
   "source": [
    "collection.insert_one(record)"
   ]
  },
  {
   "cell_type": "code",
   "execution_count": 33,
   "id": "290baa1a",
   "metadata": {},
   "outputs": [
    {
     "name": "stdout",
     "output_type": "stream",
     "text": [
      "collection : 'avodha_courses' in database 'avodha_new' exists\n"
     ]
    }
   ],
   "source": [
    "_=check_coll(COLLECTION_NAME,DB_NAME,db=dataBase)"
   ]
  },
  {
   "cell_type": "code",
   "execution_count": 35,
   "id": "9b3eaef7",
   "metadata": {},
   "outputs": [],
   "source": [
    "#inserting multiple records\n",
    "listof_records=[\n",
    "    {'name':'avodha','objective':'jap','courses':'accounting'},\n",
    "    {'name':'avodha','objective':'jap','courses':'medical'},\n",
    "    {'name':'avodha','objective':'jap','courses':'dm'},\n",
    "    {'name':'avodha','objective':'jap','courses':'pyton'},\n",
    "]"
   ]
  },
  {
   "cell_type": "code",
   "execution_count": 36,
   "id": "25fd53f7",
   "metadata": {},
   "outputs": [],
   "source": [
    "rec=collection.insert_many(listof_records)"
   ]
  },
  {
   "cell_type": "code",
   "execution_count": 37,
   "id": "3ede549e",
   "metadata": {},
   "outputs": [
    {
     "ename": "SyntaxError",
     "evalue": "invalid syntax (3334734333.py, line 2)",
     "output_type": "error",
     "traceback": [
      "\u001b[1;36m  Input \u001b[1;32mIn [37]\u001b[1;36m\u001b[0m\n\u001b[1;33m    for idx,unique_ids enumerate (inserted_IDs):\u001b[0m\n\u001b[1;37m                       ^\u001b[0m\n\u001b[1;31mSyntaxError\u001b[0m\u001b[1;31m:\u001b[0m invalid syntax\n"
     ]
    }
   ],
   "source": [
    "inserted_IDs=rec.inserted_ids\n",
    "for idx, unique_ids enumerate (inserted_IDs):\n",
    "    print(f\"{idx}, {unique_ids})"
   ]
  },
  {
   "cell_type": "code",
   "execution_count": null,
   "id": "7b901771",
   "metadata": {},
   "outputs": [],
   "source": []
  }
 ],
 "metadata": {
  "kernelspec": {
   "display_name": "Python 3 (ipykernel)",
   "language": "python",
   "name": "python3"
  },
  "language_info": {
   "codemirror_mode": {
    "name": "ipython",
    "version": 3
   },
   "file_extension": ".py",
   "mimetype": "text/x-python",
   "name": "python",
   "nbconvert_exporter": "python",
   "pygments_lexer": "ipython3",
   "version": "3.9.12"
  }
 },
 "nbformat": 4,
 "nbformat_minor": 5
}
