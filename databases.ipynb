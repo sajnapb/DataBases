{
 "cells": [
  {
   "cell_type": "code",
   "execution_count": 35,
   "id": "d0c4f350",
   "metadata": {},
   "outputs": [
    {
     "name": "stdout",
     "output_type": "stream",
     "text": [
      "<bound method MySQLConnection.is_connected of <mysql.connector.connection.MySQLConnection object at 0x00000161A1794D90>>\n"
     ]
    }
   ],
   "source": [
    "import mysql.connector as connection\n",
    "try:\n",
    "    mydb=connection.connect(host='localhost',user='root',port='3306', passwd='Eisa@260265',use_pure=True)\n",
    "    print(mydb.is_connected)\n",
    "    mydb.close()\n",
    "except exception as e:\n",
    "    print(str(e))"
   ]
  },
  {
   "cell_type": "code",
   "execution_count": 43,
   "id": "7c7918d5",
   "metadata": {},
   "outputs": [
    {
     "name": "stdout",
     "output_type": "stream",
     "text": [
      "[('information_schema',), ('mypro',), ('mysql',), ('performance_schema',), ('sys',)]\n"
     ]
    }
   ],
   "source": [
    "#import MySQLdb as mydb\n",
    "import mysql.connector as connection\n",
    "\n",
    "try:\n",
    "    mydb=connection.connect(host='localhost',user='root', passwd='Eisa@260265',use_pure=True)\n",
    "    print(mydb.is_connected)\n",
    "    query='SHOW DATABASES'\n",
    "    cursor=mydb.cursor()\n",
    "    cursor.execute((query))\n",
    "    print( cursor.fetchall())\n",
    "    \n",
    "except exception as e:\n",
    "    mydb.close()\n",
    "    print(str(e))"
   ]
  },
  {
   "cell_type": "code",
   "execution_count": 45,
   "id": "3c9c3e29",
   "metadata": {},
   "outputs": [
    {
     "name": "stdout",
     "output_type": "stream",
     "text": [
      "<bound method MySQLConnection.is_connected of <mysql.connector.connection.MySQLConnection object at 0x00000161A1966F40>>\n",
      "database created\n"
     ]
    }
   ],
   "source": [
    "import mysql.connector as connection\n",
    "\n",
    "try:\n",
    "    mydb=connection.connect(host='localhost',user='root', passwd='Eisa@260265',use_pure=True)\n",
    "    print(mydb.is_connected)\n",
    "    query='create database student'\n",
    "    cursor=mydb.cursor()\n",
    "    cursor.execute((query))\n",
    "    #print( cursor.fetchall())\n",
    "    print('database created')\n",
    "    \n",
    "except exception as e:\n",
    "    mydb.close()\n",
    "    print(str(e))"
   ]
  },
  {
   "cell_type": "code",
   "execution_count": 66,
   "id": "08db6564",
   "metadata": {},
   "outputs": [
    {
     "name": "stdout",
     "output_type": "stream",
     "text": [
      "<bound method MySQLConnection.is_connected of <mysql.connector.connection.MySQLConnection object at 0x00000161A1D43FD0>>\n",
      "table created\n"
     ]
    }
   ],
   "source": [
    "import mysql.connector as connection\n",
    "\n",
    "try:\n",
    "    mydb=connection.connect(host='localhost',database='student',user='root', passwd='Eisa@260265',use_pure=True)\n",
    "    print(mydb.is_connected)\n",
    "    query=\"CREATE TABLE Studentdetails (studentid INT(10) AUTO_INCREMENT PRIMARY KEY,Firstname VARCHAR(60),Lastname VARCHAR(60),Regdate DATE,Class VARCHAR(20),section VARCHAR(10))\"\n",
    "    cursor=mydb.cursor()\n",
    "    cursor.execute((query))\n",
    "    #print( cursor.fetchall())\n",
    "    print('table created')\n",
    "    \n",
    "except exception as e:\n",
    "    mydb.close()\n",
    "    print(str(e))"
   ]
  },
  {
   "cell_type": "code",
   "execution_count": 68,
   "id": "9cd48d43",
   "metadata": {},
   "outputs": [
    {
     "name": "stdout",
     "output_type": "stream",
     "text": [
      "<bound method MySQLConnection.is_connected of <mysql.connector.connection.MySQLConnection object at 0x00000161A1CEFEB0>>\n",
      "values inserted\n"
     ]
    }
   ],
   "source": [
    "import mysql.connector as connection\n",
    "\n",
    "try:\n",
    "    mydb=connection.connect(host='localhost',database='student',user='root', passwd='Eisa@260265',use_pure=True)\n",
    "    print(mydb.is_connected)\n",
    "    query=\"INSERT INTO Studentdetails VALUES('1001','aysha','manha','1990-11-11','first','c')\"\n",
    "    cursor=mydb.cursor()\n",
    "    cursor.execute((query))\n",
    "    #print( cursor.fetchall())\n",
    "    print('values inserted')\n",
    "    mydb.commit()\n",
    "    \n",
    "except exception as e:\n",
    "    mydb.close()\n",
    "    print(str(e))"
   ]
  },
  {
   "cell_type": "code",
   "execution_count": 74,
   "id": "42a90ddd",
   "metadata": {
    "scrolled": true
   },
   "outputs": [
    {
     "name": "stdout",
     "output_type": "stream",
     "text": [
      "<bound method MySQLConnection.is_connected of <mysql.connector.connection.MySQLConnection object at 0x00000161A1D353D0>>\n",
      "values inserted\n",
      "(1004, 'ummer', 'ah', datetime.date(1990, 11, 11), 'first', 'c')\n"
     ]
    }
   ],
   "source": [
    "import mysql.connector as connection\n",
    "\n",
    "try:\n",
    "    mydb=connection.connect(host='localhost',database='student',user='root', passwd='Eisa@260265',use_pure=True)\n",
    "    print(mydb.is_connected)\n",
    "    query=\"UPDATE Studentdetails SET Firstname='ummer',Lastname='ah' WHERE studentid=1004\"\n",
    "    cursor=mydb.cursor()\n",
    "    cursor.execute((query))\n",
    "    print('values inserted')\n",
    "    mydb.commit()\n",
    "    query=\"select *from Studentdetails where studentid=1004;\"\n",
    "    cursor=mydb.cursor()\n",
    "    cursor.execute((query))\n",
    "    for result in cursor.fetchall():\n",
    "        print(result)\n",
    "    mydb.close()\n",
    "except exception as e:\n",
    "    #mydb.close()\n",
    "    print(str(e))\n"
   ]
  },
  {
   "cell_type": "code",
   "execution_count": 27,
   "id": "a31a0a33",
   "metadata": {},
   "outputs": [],
   "source": [
    "import pandas as pd\n",
    "movie=pd.read_csv('movie.csv')\n"
   ]
  },
  {
   "cell_type": "code",
   "execution_count": 28,
   "id": "fc4ad2d3",
   "metadata": {},
   "outputs": [
    {
     "data": {
      "text/html": [
       "<div>\n",
       "<style scoped>\n",
       "    .dataframe tbody tr th:only-of-type {\n",
       "        vertical-align: middle;\n",
       "    }\n",
       "\n",
       "    .dataframe tbody tr th {\n",
       "        vertical-align: top;\n",
       "    }\n",
       "\n",
       "    .dataframe thead th {\n",
       "        text-align: right;\n",
       "    }\n",
       "</style>\n",
       "<table border=\"1\" class=\"dataframe\">\n",
       "  <thead>\n",
       "    <tr style=\"text-align: right;\">\n",
       "      <th></th>\n",
       "      <th>id</th>\n",
       "      <th>moviename</th>\n",
       "      <th>year</th>\n",
       "    </tr>\n",
       "  </thead>\n",
       "  <tbody>\n",
       "    <tr>\n",
       "      <th>0</th>\n",
       "      <td>1</td>\n",
       "      <td>Youth in Revolt</td>\n",
       "      <td>2010</td>\n",
       "    </tr>\n",
       "    <tr>\n",
       "      <th>1</th>\n",
       "      <td>2</td>\n",
       "      <td>You Will Meet a Tall Dark Stranger</td>\n",
       "      <td>2010</td>\n",
       "    </tr>\n",
       "    <tr>\n",
       "      <th>2</th>\n",
       "      <td>3</td>\n",
       "      <td>When in Rome</td>\n",
       "      <td>2010</td>\n",
       "    </tr>\n",
       "    <tr>\n",
       "      <th>3</th>\n",
       "      <td>4</td>\n",
       "      <td>What Happens in Vegas</td>\n",
       "      <td>2008</td>\n",
       "    </tr>\n",
       "    <tr>\n",
       "      <th>4</th>\n",
       "      <td>5</td>\n",
       "      <td>Water For Elephants</td>\n",
       "      <td>2011</td>\n",
       "    </tr>\n",
       "  </tbody>\n",
       "</table>\n",
       "</div>"
      ],
      "text/plain": [
       "   id                           moviename  year\n",
       "0   1                     Youth in Revolt  2010\n",
       "1   2  You Will Meet a Tall Dark Stranger  2010\n",
       "2   3                        When in Rome  2010\n",
       "3   4               What Happens in Vegas  2008\n",
       "4   5                 Water For Elephants  2011"
      ]
     },
     "execution_count": 28,
     "metadata": {},
     "output_type": "execute_result"
    }
   ],
   "source": [
    "movie.head()"
   ]
  },
  {
   "cell_type": "code",
   "execution_count": 8,
   "id": "c698e1ab",
   "metadata": {},
   "outputs": [
    {
     "name": "stdout",
     "output_type": "stream",
     "text": [
      "<bound method MySQLConnection.is_connected of <mysql.connector.connection.MySQLConnection object at 0x0000019BA8E44CD0>>\n"
     ]
    },
    {
     "ename": "NameError",
     "evalue": "name 'exception' is not defined",
     "output_type": "error",
     "traceback": [
      "\u001b[1;31m---------------------------------------------------------------------------\u001b[0m",
      "\u001b[1;31mDatabaseError\u001b[0m                             Traceback (most recent call last)",
      "Input \u001b[1;32mIn [8]\u001b[0m, in \u001b[0;36m<cell line: 5>\u001b[1;34m()\u001b[0m\n\u001b[0;32m     10\u001b[0m cursor\u001b[38;5;241m=\u001b[39mmydb\u001b[38;5;241m.\u001b[39mcursor()\n\u001b[1;32m---> 11\u001b[0m \u001b[43mcursor\u001b[49m\u001b[38;5;241;43m.\u001b[39;49m\u001b[43mexecute\u001b[49m\u001b[43m(\u001b[49m\u001b[43m(\u001b[49m\u001b[43mquery\u001b[49m\u001b[43m)\u001b[49m\u001b[43m)\u001b[49m\n\u001b[0;32m     12\u001b[0m \u001b[38;5;28mprint\u001b[39m(\u001b[38;5;124m'\u001b[39m\u001b[38;5;124mdatabase created\u001b[39m\u001b[38;5;124m'\u001b[39m)\n",
      "File \u001b[1;32m~\\anaconda3\\lib\\site-packages\\mysql\\connector\\cursor.py:564\u001b[0m, in \u001b[0;36mMySQLCursor.execute\u001b[1;34m(self, operation, params, multi)\u001b[0m\n\u001b[0;32m    563\u001b[0m \u001b[38;5;28;01mtry\u001b[39;00m:\n\u001b[1;32m--> 564\u001b[0m     \u001b[38;5;28mself\u001b[39m\u001b[38;5;241m.\u001b[39m_handle_result(\u001b[38;5;28;43mself\u001b[39;49m\u001b[38;5;241;43m.\u001b[39;49m\u001b[43m_connection\u001b[49m\u001b[38;5;241;43m.\u001b[39;49m\u001b[43mcmd_query\u001b[49m\u001b[43m(\u001b[49m\u001b[43mstmt\u001b[49m\u001b[43m)\u001b[49m)\n\u001b[0;32m    565\u001b[0m \u001b[38;5;28;01mexcept\u001b[39;00m InterfaceError \u001b[38;5;28;01mas\u001b[39;00m err:\n",
      "File \u001b[1;32m~\\anaconda3\\lib\\site-packages\\mysql\\connector\\connection.py:990\u001b[0m, in \u001b[0;36mMySQLConnection.cmd_query\u001b[1;34m(self, query, raw, buffered, raw_as_string)\u001b[0m\n\u001b[0;32m    989\u001b[0m \u001b[38;5;28;01mtry\u001b[39;00m:\n\u001b[1;32m--> 990\u001b[0m     result \u001b[38;5;241m=\u001b[39m \u001b[38;5;28;43mself\u001b[39;49m\u001b[38;5;241;43m.\u001b[39;49m\u001b[43m_handle_result\u001b[49m\u001b[43m(\u001b[49m\u001b[38;5;28;43mself\u001b[39;49m\u001b[38;5;241;43m.\u001b[39;49m\u001b[43m_send_cmd\u001b[49m\u001b[43m(\u001b[49m\u001b[43mServerCmd\u001b[49m\u001b[38;5;241;43m.\u001b[39;49m\u001b[43mQUERY\u001b[49m\u001b[43m,\u001b[49m\u001b[43m \u001b[49m\u001b[43mquery\u001b[49m\u001b[43m)\u001b[49m\u001b[43m)\u001b[49m\n\u001b[0;32m    991\u001b[0m \u001b[38;5;28;01mexcept\u001b[39;00m ProgrammingError \u001b[38;5;28;01mas\u001b[39;00m err:\n",
      "File \u001b[1;32m~\\anaconda3\\lib\\site-packages\\mysql\\connector\\connection.py:784\u001b[0m, in \u001b[0;36mMySQLConnection._handle_result\u001b[1;34m(self, packet)\u001b[0m\n\u001b[0;32m    783\u001b[0m \u001b[38;5;28;01mif\u001b[39;00m packet[\u001b[38;5;241m4\u001b[39m] \u001b[38;5;241m==\u001b[39m \u001b[38;5;241m255\u001b[39m:\n\u001b[1;32m--> 784\u001b[0m     \u001b[38;5;28;01mraise\u001b[39;00m get_exception(packet)\n\u001b[0;32m    786\u001b[0m \u001b[38;5;66;03m# We have a text result set\u001b[39;00m\n",
      "\u001b[1;31mDatabaseError\u001b[0m: 1007 (HY000): Can't create database 'movie2'; database exists",
      "\nDuring handling of the above exception, another exception occurred:\n",
      "\u001b[1;31mNameError\u001b[0m                                 Traceback (most recent call last)",
      "Input \u001b[1;32mIn [8]\u001b[0m, in \u001b[0;36m<cell line: 5>\u001b[1;34m()\u001b[0m\n\u001b[0;32m     19\u001b[0m     cursor\u001b[38;5;241m.\u001b[39mexecute((query))\n\u001b[0;32m     20\u001b[0m     \u001b[38;5;28mprint\u001b[39m(\u001b[38;5;124m'\u001b[39m\u001b[38;5;124mtable created\u001b[39m\u001b[38;5;124m'\u001b[39m)\n\u001b[1;32m---> 22\u001b[0m \u001b[38;5;28;01mexcept\u001b[39;00m \u001b[43mexception\u001b[49m \u001b[38;5;28;01mas\u001b[39;00m e:\n\u001b[0;32m     23\u001b[0m     \u001b[38;5;66;03m#mydb.close()\u001b[39;00m\n\u001b[0;32m     24\u001b[0m     \u001b[38;5;28mprint\u001b[39m(\u001b[38;5;28mstr\u001b[39m(e))\n",
      "\u001b[1;31mNameError\u001b[0m: name 'exception' is not defined"
     ]
    }
   ],
   "source": [
    "import mysql.connector as connection\n",
    "import csv\n",
    "import pandas as pd\n",
    "movie=pd.read_csv('movie.csv')\n",
    "try:\n",
    "    mydb=connection.connect(host='localhost',user='root', passwd='Eisa@260265',use_pure=True)\n",
    "    print(mydb.is_connected)\n",
    "#creating new new database\n",
    "    query=\"CREATE database movie2\"\n",
    "    cursor=mydb.cursor()\n",
    "    cursor.execute((query))\n",
    "    print('database created')\n",
    "    mydb.close()\n",
    "#creating new connection\n",
    "    mydb=connection.connect(host='localhost',database='movie2', user='root', passwd='Eisa@260265',use_pure=True)\n",
    " #creating new table\n",
    "    query=\"CREATE TABLE  moviedata (id INT(10) , moviename VARCHAR(60), year int(10));\"\n",
    "    cursor=mydb.cursor()\n",
    "    cursor.execute((query))\n",
    "    print('table created')\n",
    "    \n",
    "except exception as e:\n",
    "    #mydb.close()\n",
    "    print(str(e))\n"
   ]
  },
  {
   "cell_type": "code",
   "execution_count": null,
   "id": "3e6a93b1",
   "metadata": {},
   "outputs": [],
   "source": []
  },
  {
   "cell_type": "code",
   "execution_count": null,
   "id": "62159208",
   "metadata": {},
   "outputs": [],
   "source": [
    "\n"
   ]
  }
 ],
 "metadata": {
  "kernelspec": {
   "display_name": "Python 3 (ipykernel)",
   "language": "python",
   "name": "python3"
  },
  "language_info": {
   "codemirror_mode": {
    "name": "ipython",
    "version": 3
   },
   "file_extension": ".py",
   "mimetype": "text/x-python",
   "name": "python",
   "nbconvert_exporter": "python",
   "pygments_lexer": "ipython3",
   "version": "3.9.12"
  }
 },
 "nbformat": 4,
 "nbformat_minor": 5
}
