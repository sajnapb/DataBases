{
 "cells": [
  {
   "cell_type": "code",
   "execution_count": 1,
   "id": "58226c64",
   "metadata": {},
   "outputs": [],
   "source": [
    "import sqlite3"
   ]
  },
  {
   "cell_type": "code",
   "execution_count": 2,
   "id": "290a9098",
   "metadata": {},
   "outputs": [],
   "source": [
    "db=sqlite3.connect('startup.db')\n"
   ]
  },
  {
   "cell_type": "code",
   "execution_count": 4,
   "id": "82e9ba00",
   "metadata": {},
   "outputs": [],
   "source": [
    "cursor=db.cursor()"
   ]
  },
  {
   "cell_type": "code",
   "execution_count": 5,
   "id": "059893ee",
   "metadata": {},
   "outputs": [
    {
     "data": {
      "text/plain": [
       "<sqlite3.Cursor at 0x1e166a528f0>"
      ]
     },
     "execution_count": 5,
     "metadata": {},
     "output_type": "execute_result"
    }
   ],
   "source": [
    "#table creation\n",
    "cursor.execute('CREATE TABLE employee(id int,name text,age int,salary real)')"
   ]
  },
  {
   "cell_type": "code",
   "execution_count": 10,
   "id": "24c8b40c",
   "metadata": {},
   "outputs": [
    {
     "data": {
      "text/plain": [
       "<sqlite3.Cursor at 0x1e166a528f0>"
      ]
     },
     "execution_count": 10,
     "metadata": {},
     "output_type": "execute_result"
    }
   ],
   "source": [
    "  #insert values\n",
    "cursor.execute(\"INSERT INTO employee VALUES (1, 'sali', 23, 140000)\")\n"
   ]
  },
  {
   "cell_type": "code",
   "execution_count": 18,
   "id": "07b536d4",
   "metadata": {},
   "outputs": [
    {
     "data": {
      "text/plain": [
       "<sqlite3.Cursor at 0x1e166a528f0>"
      ]
     },
     "execution_count": 18,
     "metadata": {},
     "output_type": "execute_result"
    }
   ],
   "source": [
    "#getting data\n",
    "data=cursor.execute('SELECT *FROM employee')\n",
    "data"
   ]
  },
  {
   "cell_type": "code",
   "execution_count": 19,
   "id": "6a0b818b",
   "metadata": {},
   "outputs": [
    {
     "name": "stdout",
     "output_type": "stream",
     "text": [
      "(1, 'sali', 23, 140000.0)\n",
      "(2, 'kamli', 54, 160000.0)\n",
      "(3, 'kamli', 54, 160000.0)\n",
      "(4, 'kamli', 54, 160000.0)\n",
      "(5, 'kamli', 54, 160000.0)\n",
      "(6, 'kamli', 54, 160000.0)\n",
      "(7, 'kamli', 54, 160000.0)\n",
      "(8, 'kamli', 54, 160000.0)\n",
      "(9, 'kamli', 54, 160000.0)\n",
      "(10, 'kamli', 54, 160000.0)\n"
     ]
    }
   ],
   "source": [
    "for i in data:\n",
    "    print(i)"
   ]
  },
  {
   "cell_type": "code",
   "execution_count": 16,
   "id": "cd7fb0e1",
   "metadata": {},
   "outputs": [
    {
     "data": {
      "text/plain": [
       "<sqlite3.Cursor at 0x1e166a528f0>"
      ]
     },
     "execution_count": 16,
     "metadata": {},
     "output_type": "execute_result"
    }
   ],
   "source": [
    "cursor.execute(\"INSERT INTO employee(id,name,age,salary) VALUES(3,'kamli',54,160000)\")\n",
    "cursor.execute(\"INSERT INTO employee(id,name,age,salary) VALUES(4,'kamli',54,160000)\")\n",
    "cursor.execute(\"INSERT INTO employee(id,name,age,salary) VALUES(5,'kamli',54,160000)\")\n",
    "cursor.execute(\"INSERT INTO employee(id,name,age,salary) VALUES(6,'kamli',54,160000)\")\n",
    "cursor.execute(\"INSERT INTO employee(id,name,age,salary) VALUES(7,'kamli',54,160000)\")\n",
    "cursor.execute(\"INSERT INTO employee(id,name,age,salary) VALUES(8,'kamli',54,160000)\")\n",
    "cursor.execute(\"INSERT INTO employee(id,name,age,salary) VALUES(9,'kamli',54,160000)\")\n",
    "cursor.execute(\"INSERT INTO employee(id,name,age,salary) VALUES(10,'kamli',54,160000)\")\n"
   ]
  },
  {
   "cell_type": "code",
   "execution_count": 20,
   "id": "504240bb",
   "metadata": {},
   "outputs": [],
   "source": [
    "db.commit()"
   ]
  },
  {
   "cell_type": "code",
   "execution_count": 21,
   "id": "739cd041",
   "metadata": {},
   "outputs": [],
   "source": [
    "db.close()"
   ]
  },
  {
   "cell_type": "code",
   "execution_count": null,
   "id": "ed466e5f",
   "metadata": {},
   "outputs": [],
   "source": []
  }
 ],
 "metadata": {
  "kernelspec": {
   "display_name": "Python 3 (ipykernel)",
   "language": "python",
   "name": "python3"
  },
  "language_info": {
   "codemirror_mode": {
    "name": "ipython",
    "version": 3
   },
   "file_extension": ".py",
   "mimetype": "text/x-python",
   "name": "python",
   "nbconvert_exporter": "python",
   "pygments_lexer": "ipython3",
   "version": "3.9.12"
  }
 },
 "nbformat": 4,
 "nbformat_minor": 5
}
